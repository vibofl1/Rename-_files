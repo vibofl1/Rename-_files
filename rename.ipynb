{
 "cells": [
  {
   "cell_type": "code",
   "execution_count": 59,
   "id": "e6acf139",
   "metadata": {},
   "outputs": [
    {
     "data": {
      "text/plain": [
       "'/Users/vib/Desktop/aps_code'"
      ]
     },
     "execution_count": 59,
     "metadata": {},
     "output_type": "execute_result"
    }
   ],
   "source": [
    "pwd"
   ]
  },
  {
   "cell_type": "code",
   "execution_count": 60,
   "id": "b76eb427",
   "metadata": {},
   "outputs": [
    {
     "name": "stdout",
     "output_type": "stream",
     "text": [
      "\u001b[34maps-code-library\u001b[m\u001b[m/ rename.ipynb      twil.zip\r\n",
      "\u001b[34mrecursion\u001b[m\u001b[m/        \u001b[34mtwil\u001b[m\u001b[m/             \u001b[34muntitled folder\u001b[m\u001b[m/\r\n"
     ]
    }
   ],
   "source": [
    "ls\n"
   ]
  },
  {
   "cell_type": "code",
   "execution_count": 61,
   "id": "3a20eb9e",
   "metadata": {},
   "outputs": [
    {
     "name": "stdout",
     "output_type": "stream",
     "text": [
      "/Users/vib/Desktop/aps_code/aps-code-library\n"
     ]
    }
   ],
   "source": [
    "cd  aps-code-library\n"
   ]
  },
  {
   "cell_type": "markdown",
   "id": "129061fb",
   "metadata": {},
   "source": [
    "## in the same Folder\n"
   ]
  },
  {
   "cell_type": "code",
   "execution_count": 64,
   "id": "cccb0ddd",
   "metadata": {},
   "outputs": [
    {
     "name": "stdout",
     "output_type": "stream",
     "text": [
      "All Files Renamed\n",
      "New Names are\n",
      "['problem 97 insert in sorted linked list.py', 'problem 33  recursion_first index of element in array .py', 'problem 29 majority element.py', 'problem 17 Max Height of cut to get atleast M amount of wood.py', 'problem 37 detect loop in linked list .py', 'problem 15 Trim a Binary Search Tree.py', 'problem 50 goemtic sumvusing recursion .py', 'problem 89 Mirror Tree.py', 'problem 99 MORRIS TRAVARSAL Inorder Preorder Postorder.py', 'problem 82 Compare Version Numbers.py', 'problem 26  recursion_countzeroes in a no .py', 'problem 60 x raised to the power n without using built-in function.py', 'problem 79 Top View of Binary Tree.py', 'problem 43 matrix in snake pattern.py', 'problem 94 Painters Partition Problem.py', 'problem 1 Reverse a Singly Linked List.py', 'problem 12  recursion_sum_of_array.py', 'problem 84 insert in bst.py', 'problem 74 Pallindrome.py', 'problem 20  recursion_replace_in_string.py', 'problem 93 left view of binary_tree.py', 'problem 58 stock_span Problem.py', 'problem 25 Binary Tree Maximum Path Sum.py', 'problem 80 delete a Node in linked list.py', 'problem 48 creation of binary tree.py', 'problem 49  recursion_last_index.py', 'problem 46 creating ll.py', 'problem 40  recursion_check_present_in_array.py', 'problem 88  recursion_quicksort.py', 'problem 83  recursion_remove  consecutive duplicates in a string.py', 'problem 55 Binary Tree Right Side View.py', 'problem 38 direct_recursion.py', 'problem 76 Is Graph Bipartite.py', 'problem 41  recursion_multiplicatlion.py', 'problem 69 Reverse Words in a String.py', 'problem 87  recursion_factorial_of_n.py', 'problem 68 Diameter of Binary Tree.py', 'problem 77 Median of Two Sorted Arrays.py', 'problem 3 Count Reverse Pairs.py', 'problem 24 Path to a Given Node.py', 'problem 7 Check if a LinkedList is palindrome or not..py', 'problem 59 Construct Binary Tree from Inorder and Postorder Traversal.py', 'problem 101 The N-th root of any number.py', 'problem 28 VERTICAL ORDER TRAVERSAL of a Binary Tree.py', 'problem 11 Equilibrium Point in an array .py', 'problem 8 MiddleoftheLinkedList.py', 'problem 22 Find Minimum in Rotated Sorted Array.py', 'problem 54  recursion_print1_n and n_1.py', 'problem 85 Find intersection point of 2 LinkedList.py', 'problem 34 Distribute Coins in Binary Tree.PY', 'problem 92 Inorder Traversal using STACK.py', 'problem 14 boolean matrix.py', 'problem 86 Median of Row Wise Sorted Matrix.py', 'problem 65 Construct Binary Tree from Preorder and Inorder Traversal.py', 'problem 75 right view of binary  tree.py', 'problem 61 Kth Largest element.py', 'problem 62 Morris Traversal Flatten Binary Tree to Linked List - Preorder .py', 'problem 4 Doubly linked list Insertion at given position.py', 'problem 30  recursion_convert string to integer.py', 'problem 53 Maximum Width of Binary Tree.py', 'problem 2 Mihai and Bianca.py', 'problem 52  recursion_merge_sort.py', 'problem 13 K-th element of two sorted Arrays.py', 'problem 63 ceil in bst .py', 'problem 39 Serialize and Deserialize a Binary Tree.py', 'problem 18 .DS_Store', 'problem 42 sum of upper and lower triangle of matrix.py', 'problem 102 rotate array.py', 'problem 47 josephus problem.py', 'problem 71 nth fibonacci.py', 'problem 32 floor in bst .py', 'problem 5 take_input and print in level order.py', 'problem 6 multiply_matrix .py', 'problem 90 Sort a Stack using Recursion.py', 'problem 67 input of binary_tree.py', 'problem 10 traversals of binary tree .py', 'problem 23 sumof elements in matrix.py', 'problem 73 problem 18.DS_Store', 'problem 9 Minimum Cost to Make Array Equal.py', 'problem 66 spirally traverse the matrix.py', 'problem 36  recursion_sum_of_n.py', 'problem 21 search in row:column of a matrix.py', 'problem 45 Number of Good Leaf Nodes Pairs.py', 'problem 78 convert sorted array into bst.py', 'problem 57 Binary Tree Level Order Traversal.py', 'problem 31 Balanced Binary Tree.py', 'problem 81 Roman to Integer.py', 'problem 19 Number of Islands.py', 'problem 16 print between k1 and k2 of bst.py', 'problem 70 Binary Tree Zigzag Level Order Traversal.py', 'problem 44  recursion_issorted.py', 'problem 95 Lowest Common Ancestor of a Binary Tree.py', 'problem 98 Bottom View of Binary Tree.py', 'problem 27 Longest Palindromic Substring.py', 'problem 72 Repeated String Match.py', 'problem 64 transpose of matrix.py', 'problem 96 Same Tree.py', 'problem 91 Children Sum Parent.py', 'problem 35 Count Complete Tree Nodes.py', 'problem 56 Symmetric Tree.py', 'problem 100 Flattening of a LinkedList.py', 'problem 51 BOUNDARY TRAVERSAL of binary tree.py']\n"
     ]
    }
   ],
   "source": [
    "import os\n",
    " \n",
    "folder=r'twil'\n",
    "count = 1\n",
    "# count increase by 1 in each iteration\n",
    "# iterate all files from a directory\n",
    "for file_name in os.listdir( ):\n",
    "    # Construct old file name\n",
    "    source =   file_name\n",
    "\n",
    "    # Adding the count to the new file name and extension\n",
    "    destination =    \"problem \" + str(count) + \" \"  + file_name \n",
    "\n",
    "    # Renaming the file\n",
    "    os.rename(source, destination)\n",
    "    count += 1\n",
    "print('All Files Renamed')\n",
    "\n",
    "print('New Names are')\n",
    "# verify the result\n",
    "\n",
    "res = os.listdir(  )\n",
    "print(res)"
   ]
  },
  {
   "cell_type": "code",
   "execution_count": 36,
   "id": "8cd5c3e7",
   "metadata": {},
   "outputs": [
    {
     "data": {
      "text/plain": [
       "['.ipynb_checkpointsproblem9.pyproblem3.py',\n",
       " '.DS_Store',\n",
       " 'twil',\n",
       " 'rename.ipynb',\n",
       " '.ipynb_checkpoints',\n",
       " '.DS_Storeproblem1.pyproblem7.py',\n",
       " '.gitproblem11.pyproblem8.py']"
      ]
     },
     "execution_count": 36,
     "metadata": {},
     "output_type": "execute_result"
    }
   ],
   "source": [
    "os.listdir( )"
   ]
  },
  {
   "cell_type": "code",
   "execution_count": null,
   "id": "f0425192",
   "metadata": {},
   "outputs": [],
   "source": [
    "#to rename a single file \n",
    "\n",
    "import os\n",
    "\n",
    "# Absolute path of a file\n",
    "c=0\n",
    "c1=str(c)\n",
    "old_name = r\"done.py\"\n",
    "new_name =  r \" c1+ \"done.py\" \"\n",
    "print(  old_name , new_name)\n"
   ]
  },
  {
   "cell_type": "code",
   "execution_count": null,
   "id": "83b284d4",
   "metadata": {},
   "outputs": [],
   "source": [
    "#tempelate to rename multiple files  with path // for windows\n",
    "\n",
    "import os\n",
    "\n",
    "folder = r'E:\\demos\\files\\reports\\\\'\n",
    "count = 1\n",
    "# count increase by 1 in each iteration\n",
    "# iterate all files from a directory\n",
    "for file_name in os.listdir(folder):\n",
    "    # Construct old file name\n",
    "    source = folder + file_name\n",
    "\n",
    "    # Adding the count to the new file name and extension\n",
    "    destination = folder + \"sales_\" + str(count) + \".txt\"\n",
    "\n",
    "    # Renaming the file\n",
    "    os.rename(source, destination)\n",
    "    count += 1\n",
    "print('All Files Renamed')\n",
    "\n",
    "print('New Names are')\n",
    "# verify the result\n",
    "res = os.listdir(folder)\n",
    "print(res)"
   ]
  },
  {
   "cell_type": "code",
   "execution_count": null,
   "id": "93292550",
   "metadata": {},
   "outputs": [],
   "source": []
  }
 ],
 "metadata": {
  "kernelspec": {
   "display_name": "Python 3 (ipykernel)",
   "language": "python",
   "name": "python3"
  },
  "language_info": {
   "codemirror_mode": {
    "name": "ipython",
    "version": 3
   },
   "file_extension": ".py",
   "mimetype": "text/x-python",
   "name": "python",
   "nbconvert_exporter": "python",
   "pygments_lexer": "ipython3",
   "version": "3.9.7"
  }
 },
 "nbformat": 4,
 "nbformat_minor": 5
}
